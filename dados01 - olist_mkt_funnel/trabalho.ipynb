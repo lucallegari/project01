{
 "cells": [
  {
   "cell_type": "markdown",
   "id": "69bcc70e",
   "metadata": {},
   "source": [
    "Processamento de dados:\n",
    "- criar tabela com todos os MQLs, com todas as informações disponíveis para cada um.\n",
    "- criar uma coluna com quais MQLs fecharam acordo e quais foram perdidos."
   ]
  },
  {
   "cell_type": "markdown",
   "id": "1a9716a1",
   "metadata": {},
   "source": [
    "Perguntas a serem respondidas:\n",
    "- Qual foi a taxa de conversão total?\n",
    "- Qual foi a taxa de conversão de cada origem?\n",
    "- Qual foi a taxa de conversão de cada página inicial?\n",
    "- Para cada SR, qual a receita média declarada dos leads?\n",
    "- Para cada SR, quantos de cada business_type a pessoa converteu?\n",
    "- Para cada SR, quantos de cada lead_behaviour_profile a pessoa converteu?\n",
    "- Para cada SR, quantos de cada lead_type a pessoa converteu?"
   ]
  },
  {
   "cell_type": "markdown",
   "id": "78ce753d",
   "metadata": {},
   "source": [
    "Extra:\n",
    "\n",
    "Caso consiga resolver as questões acima com facilidade, aproveite a base \"irmã\" dessa para fazer outras explorações que você ache interessante!\n",
    "\n",
    "https://www.kaggle.com/datasets/olistbr/brazilian-ecommerce\n",
    "\n",
    "Lembre de separar novamente em 2 etapas: \n",
    "1. Processamento dos dados, para criar uma tabela \"analítica\".\n",
    "2. Análise exploratória dos dados."
   ]
  }
 ],
 "metadata": {
  "kernelspec": {
   "display_name": "Python (DataScience)",
   "language": "python",
   "name": "data_science"
  },
  "language_info": {
   "codemirror_mode": {
    "name": "ipython",
    "version": 3
   },
   "file_extension": ".py",
   "mimetype": "text/x-python",
   "name": "python",
   "nbconvert_exporter": "python",
   "pygments_lexer": "ipython3",
   "version": "3.7.2"
  }
 },
 "nbformat": 4,
 "nbformat_minor": 5
}
